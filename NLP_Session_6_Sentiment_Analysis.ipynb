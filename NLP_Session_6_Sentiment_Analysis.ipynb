{
  "nbformat": 4,
  "nbformat_minor": 0,
  "metadata": {
    "colab": {
      "provenance": []
    },
    "kernelspec": {
      "name": "python3",
      "display_name": "Python 3"
    },
    "language_info": {
      "name": "python"
    }
  },
  "cells": [
    {
      "cell_type": "markdown",
      "source": [
        "## Sentiment Analysis"
      ],
      "metadata": {
        "id": "hit0UUjIGwpB"
      }
    },
    {
      "cell_type": "code",
      "source": [
        "import pandas as pd\n",
        "from nltk.sentiment.vader import SentimentIntensityAnalyzer\n",
        "import nltk\n",
        "import re\n",
        "\n",
        "# Download VADER lexicon (if not already downloaded)\n",
        "nltk.download('vader_lexicon')\n",
        "\n",
        "# Function to apply VADER sentiment analysis\n",
        "def analyze_sentiment_vader(text):\n",
        "    \"\"\"\n",
        "    Applies the VADER algorithm to a given text and returns the sentiment label and compound score.\n",
        "    \"\"\"\n",
        "    analyzer = SentimentIntensityAnalyzer()\n",
        "    vs = analyzer.polarity_scores(text)\n",
        "    compound_score = vs['compound']\n",
        "\n",
        "    if compound_score >= 0.05:\n",
        "        sentiment_label = \"Positive\"\n",
        "    elif compound_score <= -0.05:\n",
        "        sentiment_label = \"Negative\"\n",
        "    else:\n",
        "        sentiment_label = \"Neutral\"\n",
        "\n",
        "    return sentiment_label, compound_score"
      ],
      "metadata": {
        "colab": {
          "base_uri": "https://localhost:8080/"
        },
        "id": "PQqasRc1Gq4T",
        "outputId": "bdb9273a-4406-45b5-d77a-305cdf770618"
      },
      "execution_count": 28,
      "outputs": [
        {
          "output_type": "stream",
          "name": "stderr",
          "text": [
            "[nltk_data] Downloading package vader_lexicon to /root/nltk_data...\n"
          ]
        }
      ]
    },
    {
      "cell_type": "code",
      "source": [
        "# Load the dataset (replace 'tweets-data.csv' with your actual file path if different)\n",
        "# Make sure 'tweets-data.csv' is in the same directory as your notebook or provide the full path.\n",
        "try:\n",
        "    df = pd.read_csv('tweets-data.csv')\n",
        "except FileNotFoundError:\n",
        "    print(\"Error: 'tweets-data.csv' not found. Please ensure the file is in the correct directory.\")\n",
        "    # Create a dummy DataFrame for demonstration if the file is not found\n",
        "    data = {'text': [\n",
        "        \"This is a great movie!\",\n",
        "        \"I hate this product, it's terrible.\",\n",
        "        \"The weather is just okay today.\",\n",
        "        \"Feeling very happy and excited about this new opportunity.\",\n",
        "        \"Absolutely disgusted by the service here.\",\n",
        "        \"It's raining outside.\",\n",
        "        \"Wonderful news!\",\n",
        "        \"Such a frustrating experience.\",\n",
        "        \"Neutral statement about an event.\",\n",
        "        \"Best day ever!\"\n",
        "    ]}\n",
        "    df = pd.DataFrame(data)\n",
        "    print(\"Using a dummy DataFrame for demonstration.\")\n",
        "\n",
        "# Take a sample of 500 rows if the DataFrame has more than 500 rows\n",
        "if len(df) > 500:\n",
        "    df_sample = df.sample(n=500, random_state=42).copy() # Use .copy() to avoid SettingWithCopyWarning\n",
        "else:\n",
        "    df_sample = df.copy() # Use .copy() even if not sampling to ensure independent copy\n",
        "\n",
        "# Clean the tweet text\n",
        "def clean_tweet_text(text):\n",
        "    \"\"\"\n",
        "    Cleans the tweet text by removing URLs, mentions, hashtags, and special characters.\n",
        "    It also ensures that tokens are joined with a single space.\n",
        "    \"\"\"\n",
        "    if not isinstance(text, str):\n",
        "        return \"\"\n",
        "    text = re.sub(r'http\\S+|www\\S+|https\\S+', '', text, flags=re.MULTILINE) # Remove URLs\n",
        "    text = re.sub(r'@\\w+', '', text) # Remove mentions\n",
        "    text = re.sub(r'#\\w+', '', text) # Remove hashtags\n",
        "    text = re.sub(r'[^a-zA-Z\\s]', '', text) # Remove special characters, keep letters and spaces\n",
        "    text = ' '.join(text.split()) # Replace multiple spaces with a single space\n",
        "    return text.strip() # Remove leading/trailing whitespace\n",
        "\n",
        "df_sample['cleaned_text'] = df_sample['Tweets'].apply(clean_tweet_text)\n",
        "\n",
        "# Apply the sentiment analysis function to the cleaned text\n",
        "df_sample[['sentiment_label', 'sentiment_score']] = df_sample['cleaned_text'].apply(\n",
        "    lambda x: pd.Series(analyze_sentiment_vader(x))\n",
        ")\n",
        "\n",
        "# Display the first few rows with the new columns\n",
        "print(\"\\nDataFrame with Sentiment Analysis Results:\")\n",
        "print(df_sample[['Tweets', 'cleaned_text', 'sentiment_label', 'sentiment_score']].head())\n",
        "\n",
        "# Optional: Display value counts for sentiment labels\n",
        "print(\"\\nSentiment Label Distribution:\")\n",
        "print(df_sample['sentiment_label'].value_counts())"
      ],
      "metadata": {
        "colab": {
          "base_uri": "https://localhost:8080/"
        },
        "id": "QSXg8SQsG2fZ",
        "outputId": "e901b086-a7b5-48d3-9ac2-ed3822e196f2"
      },
      "execution_count": 33,
      "outputs": [
        {
          "output_type": "stream",
          "name": "stdout",
          "text": [
            "\n",
            "DataFrame with Sentiment Analysis Results:\n",
            "                                                 Tweets  \\\n",
            "2899  Le #DessinDePresse de Sanaga : ls sont morts c...   \n",
            "594   #Russia #Wagner #RussiaCivilWar https://t.co/P...   \n",
            "2870  Exclusive content -https://t.co/oEiSIIB2Z1\\n.\\...   \n",
            "52    Auch heute geht die politische Nachricht des T...   \n",
            "1391  @crazyclipsonly Same type that would take a ho...   \n",
            "\n",
            "                                           cleaned_text sentiment_label  \\\n",
            "2899  Le de Sanaga ls sont morts comme ils ont vcu R...         Neutral   \n",
            "594                                                             Neutral   \n",
            "2870                                  Exclusive content        Positive   \n",
            "52    Auch heute geht die politische Nachricht des T...        Negative   \n",
            "1391  Same type that would take a homemade PlayStati...         Neutral   \n",
            "\n",
            "      sentiment_score  \n",
            "2899           0.0000  \n",
            "594            0.0000  \n",
            "2870           0.1280  \n",
            "52            -0.5994  \n",
            "1391           0.0000  \n",
            "\n",
            "Sentiment Label Distribution:\n",
            "sentiment_label\n",
            "Neutral     283\n",
            "Negative    113\n",
            "Positive    104\n",
            "Name: count, dtype: int64\n"
          ]
        }
      ]
    },
    {
      "cell_type": "code",
      "source": [
        "import pandas as pd\n",
        "from transformers import pipeline\n",
        "import re\n",
        "import os\n",
        "\n",
        "# Install transformers if you haven't already\n",
        "# !pip install transformers\n",
        "\n",
        "# Load the dataset (replace 'tweets-data.csv' with your actual file path if different)\n",
        "try:\n",
        "    df = pd.read_csv('tweets-data.csv')\n",
        "except FileNotFoundError:\n",
        "    print(\"Error: 'tweets-data.csv' not found. Please ensure the file is in the correct directory.\")\n",
        "    # Create a dummy DataFrame for demonstration if the file is not found\n",
        "    data = {'text': [\n",
        "        \"This is a great movie!\",\n",
        "        \"I hate this product, it's terrible.\",\n",
        "        \"The weather is just okay today.\",\n",
        "        \"Feeling very happy and excited about this new opportunity.\",\n",
        "        \"Absolutely disgusted by the service here.\",\n",
        "        \"It's raining outside.\",\n",
        "        \"Wonderful news!\",\n",
        "        \"Such a frustrating experience.\",\n",
        "        \"Neutral statement about an event.\",\n",
        "        \"Best day ever!\"\n",
        "    ]}\n",
        "    df = pd.DataFrame(data)\n",
        "    print(\"Using a dummy DataFrame for demonstration.\")\n",
        "\n",
        "# Take a sample of 500 rows if the DataFrame has more than 500 rows\n",
        "if len(df) > 500:\n",
        "    df_sample = df.sample(n=500, random_state=42).copy() # Use .copy() to avoid SettingWithCopyWarning\n",
        "else:\n",
        "    df_sample = df.copy() # Use .copy() even if not sampling to ensure independent copy\n",
        "\n",
        "# --- Debugging Step 1: Check the size of df_sample ---\n",
        "print(f\"Size of df_sample before cleaning: {len(df_sample)} rows\")\n",
        "\n",
        "\n",
        "# Clean the tweet text\n",
        "def clean_tweet_text(text):\n",
        "    \"\"\"\n",
        "    Cleans the tweet text by removing URLs, mentions, hashtags, and special characters.\n",
        "    It also ensures that tokens are joined with a single space.\n",
        "    \"\"\"\n",
        "    if not isinstance(text, str):\n",
        "        return \"\"\n",
        "    text = re.sub(r'http\\S+|www\\S+|https\\S+', '', text, flags=re.MULTILINE) # Remove URLs\n",
        "    text = re.sub(r'@\\w+', '', text) # Remove mentions\n",
        "    text = re.sub(r'#\\w+', '', text) # Remove hashtags\n",
        "    text = re.sub(r'[^a-zA-Z\\s]', '', text) # Remove special characters, keep letters and spaces\n",
        "    text = ' '.join(text.split()) # Replace multiple spaces with a single space\n",
        "    return text.strip() # Remove leading/trailing whitespace\n",
        "\n",
        "df_sample['cleaned_text'] = df_sample['Tweets'].apply(clean_tweet_text)\n",
        "\n",
        "# --- Debugging Step 2: Check for empty strings after cleaning ---\n",
        "empty_cleaned_texts = df_sample['cleaned_text'].apply(lambda x: x == \"\").sum()\n",
        "print(f\"Number of empty cleaned texts: {empty_cleaned_texts}\")\n",
        "\n",
        "\n",
        "# Initialize the sentiment analysis pipeline\n",
        "print(\"Initializing sentiment analysis pipeline (this may download a model if it's the first time)...\")\n",
        "try:\n",
        "    sentiment_pipeline = pipeline(\"sentiment-analysis\")\n",
        "    print(\"Sentiment analysis pipeline initialized.\")\n",
        "except Exception as e:\n",
        "    print(f\"Error initializing pipeline: {e}\")\n",
        "    print(\"Please ensure you have an active internet connection for the first run to download the model.\")\n",
        "    exit()\n",
        "\n",
        "print(\"Performing sentiment analysis on tweets one by one...\")\n",
        "sentiment_labels = []\n",
        "sentiment_scores = []\n",
        "\n",
        "# Iterate through each cleaned text\n",
        "for index, cleaned_text in df_sample['cleaned_text'].items():\n",
        "    try:\n",
        "        # Pass each text as a list with one element to the pipeline\n",
        "        # The pipeline expects an iterable of strings\n",
        "        results = sentiment_pipeline([cleaned_text])\n",
        "        # The result is a list of dictionaries, so we take the first element\n",
        "        result = results[0]\n",
        "        sentiment_labels.append(result['label'])\n",
        "        sentiment_scores.append(result['score'])\n",
        "    except Exception as e:\n",
        "        print(f\"Error processing text at index {index} ('{cleaned_text}'): {e}\")\n",
        "        # Append placeholder results to maintain length consistency\n",
        "        sentiment_labels.append('ERROR')\n",
        "        sentiment_scores.append(0.0)\n",
        "\n",
        "print(\"Sentiment analysis complete.\")\n",
        "\n",
        "# --- Debugging Step 3: Critical Check for Mismatched Lengths ---\n",
        "if len(sentiment_labels) != len(df_sample):\n",
        "    print(f\"Mismatch detected! Length of sentiment_labels ({len(sentiment_labels)}) does not match df_sample ({len(df_sample)})\")\n",
        "    # This should ideally not happen when processing one by one and appending placeholders.\n",
        "    # If it does, there's a more fundamental issue with how results are being collected.\n",
        "    # For robust handling, if this check still fails:\n",
        "    diff = len(df_sample) - len(sentiment_labels)\n",
        "    if diff > 0:\n",
        "        print(f\"Padding sentiment results with {diff} neutral entries.\")\n",
        "        sentiment_labels.extend(['Neutral'] * diff)\n",
        "        sentiment_scores.extend([0.0] * diff)\n",
        "    elif diff < 0:\n",
        "        print(f\"Truncating sentiment results by {-diff} entries.\")\n",
        "        sentiment_labels = sentiment_labels[:len(df_sample)]\n",
        "        sentiment_scores = sentiment_scores[:len(df_sample)]\n",
        "\n",
        "\n",
        "# Add new columns to the DataFrame\n",
        "df_sample['sentiment_label_ml'] = sentiment_labels\n",
        "df_sample['sentiment_score_ml'] = sentiment_scores\n",
        "\n",
        "# Display the first few rows with the new columns\n",
        "print(\"\\nDataFrame with Machine Learning Sentiment Analysis Results:\")\n",
        "print(df_sample[['Tweets', 'cleaned_text', 'sentiment_label_ml', 'sentiment_score_ml']].head())\n",
        "\n",
        "# Optional: Display value counts for sentiment labels\n",
        "print(\"\\nSentiment Label Distribution (ML Model):\")\n",
        "print(df_sample['sentiment_label_ml'].value_counts())"
      ],
      "metadata": {
        "colab": {
          "base_uri": "https://localhost:8080/"
        },
        "id": "OJXKNQ6eHS_W",
        "outputId": "9ea5288b-659e-49ea-c751-61213ff90a69"
      },
      "execution_count": 37,
      "outputs": [
        {
          "output_type": "stream",
          "name": "stderr",
          "text": [
            "No model was supplied, defaulted to distilbert/distilbert-base-uncased-finetuned-sst-2-english and revision 714eb0f (https://huggingface.co/distilbert/distilbert-base-uncased-finetuned-sst-2-english).\n",
            "Using a pipeline without specifying a model name and revision in production is not recommended.\n"
          ]
        },
        {
          "output_type": "stream",
          "name": "stdout",
          "text": [
            "Size of df_sample before cleaning: 500 rows\n",
            "Number of empty cleaned texts: 74\n",
            "Initializing sentiment analysis pipeline (this may download a model if it's the first time)...\n"
          ]
        },
        {
          "output_type": "stream",
          "name": "stderr",
          "text": [
            "Device set to use cpu\n"
          ]
        },
        {
          "output_type": "stream",
          "name": "stdout",
          "text": [
            "Sentiment analysis pipeline initialized.\n",
            "Performing sentiment analysis on tweets one by one...\n"
          ]
        },
        {
          "output_type": "stream",
          "name": "stderr",
          "text": [
            "Token indices sequence length is longer than the specified maximum sequence length for this model (934 > 512). Running this sequence through the model will result in indexing errors\n"
          ]
        },
        {
          "output_type": "stream",
          "name": "stdout",
          "text": [
            "Error processing text at index 188 ('La Rebelin del Grupo Wagner Un Desafo Crtico para el Gobierno Ruso La rebelin del Grupo Wagner ha sacudido el establishment poltico ruso Este grupo un contratista militar privado con estrechos vnculos con el Kremlin ha sido acusado de llevar a cabo numerosas atrocidades en Ucrania y Siria La rebelin donde un grupo de combatientes de Wagner se amotinaron contra el comando ruso oficial ha planteado serios interrogantes sobre la lealtad del grupo hacia el gobierno ruso La rebelin comenz el de junio de cuando un grupo de combatientes de Wagner se neg a obedecer rdenes de llevar a cabo una misin en Ucrania Los combatientes al parecer descontentos con su remuneracin y condiciones tomaron como rehenes a sus comandantes y exigieron ser llevados de regreso a Rusia Finalmente la rebelin fue sofocada por fuerzas especiales rusas aunque se hablo de una negociacin pero lo cierto es que ha dejado un interrogante en el panorama poltico ruso La rebelin ha planteado serias dudas sobre la lealtad del Grupo Wagner hacia el Kremlin Se ha acusado al grupo de operar con impunidad en el pasado y la rebelin sugiere que podra estar dispuesto a desafiar la autoridad del gobierno ruso o de cualquier eventual contratante Esto es una preocupacin para el Kremlin ya que el Grupo Wagner es una fuerza poderosa que podra utilizarse para desestabilizar el gobierno ruso o llevar a cabo operaciones no autorizadas Pero todos los gobiernos deberan prestar atencin La rebelin tambin ha daado la reputacin del gobierno ruso Se ha acusado al Kremlin de utilizar al Grupo Wagner para llevar a cabo trabajos sucios y la rebelin solo ha reforzado estas acusaciones Esto supone un problema para el Kremlin ya que est tratando de mejorar su imagen en el escenario mundial A continuacin se presentan algunas de las posibles consecuencias de la rebelin del Grupo Wagner para la situacin poltica rusa I El Kremlin podra perder el control sobre el Grupo Wagner lo que podra llevar al grupo a llevar a cabo operaciones no autorizadas que podran desestabilizar el gobierno ruso II La rebelin podra daar la reputacin del gobierno ruso en el escenario mundial lo que dificultara alcanzar los objetivos de poltica exterior del Kremlin III La rebelin podra llevar a una represin contra el Grupo Wagner lo que podra alienar a algunos de los partidarios ms leales del Kremlin IV La rebelin plantea un interrogante sobre la contratacin de los ejrcitos privados En trminos de Max Webber el monopolio legitimo de la violencia solo puede ser del Estado y no del privado V Existe la sospecha que el grupo Wagner fue financiado por agencias de inteligencia rivales del gobierno ruso En tal caso estaramos viendo un nuevo estilo de guerra no convencional una suerte de privatizacin del conflicto Las consecuencias completas de la rebelin del Grupo Wagner an estn desarrollndose El Kremlin deber tomar medidas para abordar los desafos planteados por la rebelin o de lo contrario podra enfrentar graves consecuencias'): The size of tensor a (934) must match the size of tensor b (512) at non-singleton dimension 1\n",
            "Sentiment analysis complete.\n",
            "\n",
            "DataFrame with Machine Learning Sentiment Analysis Results:\n",
            "                                                 Tweets  \\\n",
            "2899  Le #DessinDePresse de Sanaga : ls sont morts c...   \n",
            "594   #Russia #Wagner #RussiaCivilWar https://t.co/P...   \n",
            "2870  Exclusive content -https://t.co/oEiSIIB2Z1\\n.\\...   \n",
            "52    Auch heute geht die politische Nachricht des T...   \n",
            "1391  @crazyclipsonly Same type that would take a ho...   \n",
            "\n",
            "                                           cleaned_text sentiment_label_ml  \\\n",
            "2899  Le de Sanaga ls sont morts comme ils ont vcu R...           NEGATIVE   \n",
            "594                                                               POSITIVE   \n",
            "2870                                  Exclusive content           POSITIVE   \n",
            "52    Auch heute geht die politische Nachricht des T...           NEGATIVE   \n",
            "1391  Same type that would take a homemade PlayStati...           NEGATIVE   \n",
            "\n",
            "      sentiment_score_ml  \n",
            "2899            0.890084  \n",
            "594             0.748121  \n",
            "2870            0.998467  \n",
            "52              0.975363  \n",
            "1391            0.995244  \n",
            "\n",
            "Sentiment Label Distribution (ML Model):\n",
            "sentiment_label_ml\n",
            "NEGATIVE    289\n",
            "POSITIVE    210\n",
            "ERROR         1\n",
            "Name: count, dtype: int64\n"
          ]
        }
      ]
    }
  ]
}